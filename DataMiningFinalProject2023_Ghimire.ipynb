{
 "cells": [
  {
   "cell_type": "markdown",
   "id": "c9433d0e",
   "metadata": {},
   "source": [
    "##                                         FINAL PROJECT FOR DATA MINING\n",
    "##                                                               TOPIC\n",
    "\n",
    "### PREDICTING FAKE NEWS AND TRUE NEWS USING GENERATIVE AND DISCRIMINATIVE MODELS, WITH AND WITHOUT DATA CLEANING"
   ]
  },
  {
   "cell_type": "markdown",
   "id": "5b179bef",
   "metadata": {},
   "source": [
    "####  The project involves studying two different machine learning models: a Generative model (Naive Bayes) and a Discriminative model (Logistic regression). The goal is to predict whether a news article is fake or true. The project includes two main processes: one with data cleaning and one without data cleaning. In the first process, the ML models are implemented after a series of data cleaning steps. The classification report is generated based on the predictions made by the models. In the second process, the same models are implemented without any data cleaning. This is done to compare the performance of the models with and without data cleaning.\n",
    "#### To make the project more interesting, a dataset of true news articles is created, which is sourced from various news websites such as CNN, BBC, The New York Post, and others. The dataset consists of news articles published recently in May 2023. The objective is to test the models with this dataset containing the latest news and analyze their performance. However, the dataset chosen for training and testing contains news articles from 2017, and the dates are not specified in the dataset. Another dataset with similar contents is available, but it has news articles specifically from 2017. Initially, the plan was to use the entire dataset, which consisted of 70,000 rows. However, due to the limitations of the machine's processing power, the dataset has been reduced to 20,000 rows, with each label having 10,000 rows. During the data analysis process, it will be determined if the models can accurately predict the labels of the latest news dataset from 2023. If the accuracy falls below 80% for the latest news dataset during the final analysis, it will be concluded that the models have failed to perform satisfactorily. Initial approach was with 40K rows but it was taking some time to load so, final length of rows went to 20K."
   ]
  },
  {
   "cell_type": "markdown",
   "id": "9f13ba8b",
   "metadata": {},
   "source": [
    "### Steps for this projects\n",
    "1. Import the necessary libraries and datasets.\n",
    "2. Filter and merge the datasets into one for the cleaning process.\n",
    "3. Apply data cleaning processes to the merged dataset.\n",
    "4. Split the cleaned dataset into a training set and a testing set using a 70/30 split ratio.\n",
    "5. Apply TF-IDF (Term Frequency-Inverse Document Frequency) to convert the cleaned textual data into numerical arrays.\n",
    "6. Train and test the generative and discriminative models using the training and testing sets and print the classification report.\n",
    "7. Finally, apply the trained models to the latest news dataset, which is the main task of this project. Analyze the classification report to assess the success or failure of the models in predicting the authenticity of the news.\n",
    "8. Again, apply the same process without data cleaning process.\n"
   ]
  },
  {
   "cell_type": "markdown",
   "id": "32f0cf49",
   "metadata": {},
   "source": [
    "### Step 1"
   ]
  },
  {
   "cell_type": "code",
   "execution_count": 1,
   "id": "0f90c76d",
   "metadata": {
    "id": "0f90c76d"
   },
   "outputs": [],
   "source": [
    "## Importing necessary libraries\n",
    "import pandas as pd\n",
    "import numpy as np\n",
    "import re\n",
    "import matplotlib.pyplot as plt\n",
    "import seaborn as sns\n",
    "import nltk\n",
    "import seaborn as sn\n",
    "import pandas as pd"
   ]
  },
  {
   "cell_type": "markdown",
   "id": "c0fb8bc1",
   "metadata": {},
   "source": [
    "### Step 2\n"
   ]
  },
  {
   "cell_type": "code",
   "execution_count": 2,
   "id": "82cc8757",
   "metadata": {},
   "outputs": [
    {
     "data": {
      "text/html": [
       "<div>\n",
       "<style scoped>\n",
       "    .dataframe tbody tr th:only-of-type {\n",
       "        vertical-align: middle;\n",
       "    }\n",
       "\n",
       "    .dataframe tbody tr th {\n",
       "        vertical-align: top;\n",
       "    }\n",
       "\n",
       "    .dataframe thead th {\n",
       "        text-align: right;\n",
       "    }\n",
       "</style>\n",
       "<table border=\"1\" class=\"dataframe\">\n",
       "  <thead>\n",
       "    <tr style=\"text-align: right;\">\n",
       "      <th></th>\n",
       "      <th>text</th>\n",
       "    </tr>\n",
       "  </thead>\n",
       "  <tbody>\n",
       "    <tr>\n",
       "      <th>0</th>\n",
       "      <td>The head of a conservative Republican faction ...</td>\n",
       "    </tr>\n",
       "    <tr>\n",
       "      <th>1</th>\n",
       "      <td>Transgender people will be allowed for the fir...</td>\n",
       "    </tr>\n",
       "    <tr>\n",
       "      <th>2</th>\n",
       "      <td>The special counsel investigation of links bet...</td>\n",
       "    </tr>\n",
       "  </tbody>\n",
       "</table>\n",
       "</div>"
      ],
      "text/plain": [
       "                                                text\n",
       "0  The head of a conservative Republican faction ...\n",
       "1  Transgender people will be allowed for the fir...\n",
       "2  The special counsel investigation of links bet..."
      ]
     },
     "execution_count": 2,
     "metadata": {},
     "output_type": "execute_result"
    }
   ],
   "source": [
    "## Importing the data set for True class label\n",
    "df4=pd.read_csv(\"DataSet_Misinfo_TRUE.csv\")\n",
    "true1=df4[[\"text\"]]\n",
    "true1.head(3)"
   ]
  },
  {
   "cell_type": "code",
   "execution_count": 3,
   "id": "d654fb24",
   "metadata": {},
   "outputs": [
    {
     "data": {
      "text/html": [
       "<div>\n",
       "<style scoped>\n",
       "    .dataframe tbody tr th:only-of-type {\n",
       "        vertical-align: middle;\n",
       "    }\n",
       "\n",
       "    .dataframe tbody tr th {\n",
       "        vertical-align: top;\n",
       "    }\n",
       "\n",
       "    .dataframe thead th {\n",
       "        text-align: right;\n",
       "    }\n",
       "</style>\n",
       "<table border=\"1\" class=\"dataframe\">\n",
       "  <thead>\n",
       "    <tr style=\"text-align: right;\">\n",
       "      <th></th>\n",
       "      <th>text</th>\n",
       "      <th>label</th>\n",
       "    </tr>\n",
       "  </thead>\n",
       "  <tbody>\n",
       "    <tr>\n",
       "      <th>0</th>\n",
       "      <td>The head of a conservative Republican faction ...</td>\n",
       "      <td>True</td>\n",
       "    </tr>\n",
       "    <tr>\n",
       "      <th>1</th>\n",
       "      <td>Transgender people will be allowed for the fir...</td>\n",
       "      <td>True</td>\n",
       "    </tr>\n",
       "    <tr>\n",
       "      <th>2</th>\n",
       "      <td>The special counsel investigation of links bet...</td>\n",
       "      <td>True</td>\n",
       "    </tr>\n",
       "    <tr>\n",
       "      <th>3</th>\n",
       "      <td>Trump campaign adviser George Papadopoulos tol...</td>\n",
       "      <td>True</td>\n",
       "    </tr>\n",
       "    <tr>\n",
       "      <th>4</th>\n",
       "      <td>President Donald Trump called on the U.S. Post...</td>\n",
       "      <td>True</td>\n",
       "    </tr>\n",
       "  </tbody>\n",
       "</table>\n",
       "</div>"
      ],
      "text/plain": [
       "                                                text  label\n",
       "0  The head of a conservative Republican faction ...   True\n",
       "1  Transgender people will be allowed for the fir...   True\n",
       "2  The special counsel investigation of links bet...   True\n",
       "3  Trump campaign adviser George Papadopoulos tol...   True\n",
       "4  President Donald Trump called on the U.S. Post...   True"
      ]
     },
     "execution_count": 3,
     "metadata": {},
     "output_type": "execute_result"
    }
   ],
   "source": [
    "## Adding a true class label to the dataset\n",
    "true1[\"label\"]=True\n",
    "true1.head()"
   ]
  },
  {
   "cell_type": "code",
   "execution_count": 4,
   "id": "141c41a5",
   "metadata": {},
   "outputs": [
    {
     "data": {
      "text/plain": [
       "(10000, 2)"
      ]
     },
     "execution_count": 4,
     "metadata": {},
     "output_type": "execute_result"
    }
   ],
   "source": [
    "## Selectiing only top 20k rows from true dataset\n",
    "df8=true1.loc[0:9999]\n",
    "df8.shape"
   ]
  },
  {
   "cell_type": "code",
   "execution_count": 5,
   "id": "063c61c5",
   "metadata": {},
   "outputs": [
    {
     "data": {
      "text/plain": [
       "(10000, 2)"
      ]
     },
     "execution_count": 5,
     "metadata": {},
     "output_type": "execute_result"
    }
   ],
   "source": [
    "## Checking for the rows and columns\n",
    "df8.shape"
   ]
  },
  {
   "cell_type": "code",
   "execution_count": 6,
   "id": "8452ac52",
   "metadata": {},
   "outputs": [],
   "source": [
    "## Importing the dataset for False class label\n",
    "df5=pd.read_csv(\"DataSet_Misinfo_Fake.csv\")\n",
    "fake1=df5[[\"text\"]]"
   ]
  },
  {
   "cell_type": "code",
   "execution_count": 7,
   "id": "5f019381",
   "metadata": {},
   "outputs": [
    {
     "data": {
      "text/plain": [
       "(43642, 1)"
      ]
     },
     "execution_count": 7,
     "metadata": {},
     "output_type": "execute_result"
    }
   ],
   "source": [
    "## checking for the rows and columns\n",
    "fake1.shape"
   ]
  },
  {
   "cell_type": "code",
   "execution_count": 8,
   "id": "00f87246",
   "metadata": {},
   "outputs": [
    {
     "data": {
      "text/plain": [
       "(10000, 1)"
      ]
     },
     "execution_count": 8,
     "metadata": {},
     "output_type": "execute_result"
    }
   ],
   "source": [
    "### Selecting only top 20k rows from the dataset\n",
    "df55=fake1.loc[0:9999]\n",
    "df55.shape"
   ]
  },
  {
   "cell_type": "code",
   "execution_count": 9,
   "id": "409a7e4d",
   "metadata": {},
   "outputs": [
    {
     "name": "stderr",
     "output_type": "stream",
     "text": [
      "/var/folders/3v/q0wvbvms0x3bd5z88wrm076w0000gn/T/ipykernel_1297/2982191787.py:2: SettingWithCopyWarning: \n",
      "A value is trying to be set on a copy of a slice from a DataFrame.\n",
      "Try using .loc[row_indexer,col_indexer] = value instead\n",
      "\n",
      "See the caveats in the documentation: https://pandas.pydata.org/pandas-docs/stable/user_guide/indexing.html#returning-a-view-versus-a-copy\n",
      "  df55[\"label\"]=False\n"
     ]
    },
    {
     "data": {
      "text/html": [
       "<div>\n",
       "<style scoped>\n",
       "    .dataframe tbody tr th:only-of-type {\n",
       "        vertical-align: middle;\n",
       "    }\n",
       "\n",
       "    .dataframe tbody tr th {\n",
       "        vertical-align: top;\n",
       "    }\n",
       "\n",
       "    .dataframe thead th {\n",
       "        text-align: right;\n",
       "    }\n",
       "</style>\n",
       "<table border=\"1\" class=\"dataframe\">\n",
       "  <thead>\n",
       "    <tr style=\"text-align: right;\">\n",
       "      <th></th>\n",
       "      <th>text</th>\n",
       "      <th>label</th>\n",
       "    </tr>\n",
       "  </thead>\n",
       "  <tbody>\n",
       "    <tr>\n",
       "      <th>0</th>\n",
       "      <td>Donald Trump just couldn t wish all Americans ...</td>\n",
       "      <td>False</td>\n",
       "    </tr>\n",
       "    <tr>\n",
       "      <th>1</th>\n",
       "      <td>House Intelligence Committee Chairman Devin Nu...</td>\n",
       "      <td>False</td>\n",
       "    </tr>\n",
       "    <tr>\n",
       "      <th>2</th>\n",
       "      <td>On Friday, it was revealed that former Milwauk...</td>\n",
       "      <td>False</td>\n",
       "    </tr>\n",
       "    <tr>\n",
       "      <th>3</th>\n",
       "      <td>On Christmas day, Donald Trump announced that ...</td>\n",
       "      <td>False</td>\n",
       "    </tr>\n",
       "  </tbody>\n",
       "</table>\n",
       "</div>"
      ],
      "text/plain": [
       "                                                text  label\n",
       "0  Donald Trump just couldn t wish all Americans ...  False\n",
       "1  House Intelligence Committee Chairman Devin Nu...  False\n",
       "2  On Friday, it was revealed that former Milwauk...  False\n",
       "3  On Christmas day, Donald Trump announced that ...  False"
      ]
     },
     "execution_count": 9,
     "metadata": {},
     "output_type": "execute_result"
    }
   ],
   "source": [
    "## Adding false class label for the dataset\n",
    "df55[\"label\"]=False\n",
    "df55.head(4)"
   ]
  },
  {
   "cell_type": "code",
   "execution_count": 10,
   "id": "fe28f981",
   "metadata": {},
   "outputs": [],
   "source": [
    "## Merging the both datasets \"df8\" and \"df55\".\n",
    "df3=pd.concat([df8,df55], axis=0)"
   ]
  },
  {
   "cell_type": "code",
   "execution_count": 11,
   "id": "9bacfdae",
   "metadata": {},
   "outputs": [
    {
     "data": {
      "text/html": [
       "<div>\n",
       "<style scoped>\n",
       "    .dataframe tbody tr th:only-of-type {\n",
       "        vertical-align: middle;\n",
       "    }\n",
       "\n",
       "    .dataframe tbody tr th {\n",
       "        vertical-align: top;\n",
       "    }\n",
       "\n",
       "    .dataframe thead th {\n",
       "        text-align: right;\n",
       "    }\n",
       "</style>\n",
       "<table border=\"1\" class=\"dataframe\">\n",
       "  <thead>\n",
       "    <tr style=\"text-align: right;\">\n",
       "      <th></th>\n",
       "      <th>text</th>\n",
       "      <th>label</th>\n",
       "    </tr>\n",
       "  </thead>\n",
       "  <tbody>\n",
       "    <tr>\n",
       "      <th>0</th>\n",
       "      <td>The head of a conservative Republican faction ...</td>\n",
       "      <td>True</td>\n",
       "    </tr>\n",
       "    <tr>\n",
       "      <th>1</th>\n",
       "      <td>Transgender people will be allowed for the fir...</td>\n",
       "      <td>True</td>\n",
       "    </tr>\n",
       "    <tr>\n",
       "      <th>2</th>\n",
       "      <td>The special counsel investigation of links bet...</td>\n",
       "      <td>True</td>\n",
       "    </tr>\n",
       "    <tr>\n",
       "      <th>3</th>\n",
       "      <td>Trump campaign adviser George Papadopoulos tol...</td>\n",
       "      <td>True</td>\n",
       "    </tr>\n",
       "    <tr>\n",
       "      <th>4</th>\n",
       "      <td>President Donald Trump called on the U.S. Post...</td>\n",
       "      <td>True</td>\n",
       "    </tr>\n",
       "    <tr>\n",
       "      <th>...</th>\n",
       "      <td>...</td>\n",
       "      <td>...</td>\n",
       "    </tr>\n",
       "    <tr>\n",
       "      <th>9995</th>\n",
       "      <td>Here s a 1999 video of Jesse Jackson praising ...</td>\n",
       "      <td>False</td>\n",
       "    </tr>\n",
       "    <tr>\n",
       "      <th>9996</th>\n",
       "      <td>Check out what s happening in Texas! President...</td>\n",
       "      <td>False</td>\n",
       "    </tr>\n",
       "    <tr>\n",
       "      <th>9997</th>\n",
       "      <td>Jesse Jackson thinks he s Heaven s gatekeeper ...</td>\n",
       "      <td>False</td>\n",
       "    </tr>\n",
       "    <tr>\n",
       "      <th>9998</th>\n",
       "      <td>The media will lose it again because Melania T...</td>\n",
       "      <td>False</td>\n",
       "    </tr>\n",
       "    <tr>\n",
       "      <th>9999</th>\n",
       "      <td>Unbelievable! Women s March Activist went off ...</td>\n",
       "      <td>False</td>\n",
       "    </tr>\n",
       "  </tbody>\n",
       "</table>\n",
       "<p>20000 rows × 2 columns</p>\n",
       "</div>"
      ],
      "text/plain": [
       "                                                   text  label\n",
       "0     The head of a conservative Republican faction ...   True\n",
       "1     Transgender people will be allowed for the fir...   True\n",
       "2     The special counsel investigation of links bet...   True\n",
       "3     Trump campaign adviser George Papadopoulos tol...   True\n",
       "4     President Donald Trump called on the U.S. Post...   True\n",
       "...                                                 ...    ...\n",
       "9995  Here s a 1999 video of Jesse Jackson praising ...  False\n",
       "9996  Check out what s happening in Texas! President...  False\n",
       "9997  Jesse Jackson thinks he s Heaven s gatekeeper ...  False\n",
       "9998  The media will lose it again because Melania T...  False\n",
       "9999  Unbelievable! Women s March Activist went off ...  False\n",
       "\n",
       "[20000 rows x 2 columns]"
      ]
     },
     "execution_count": 11,
     "metadata": {},
     "output_type": "execute_result"
    }
   ],
   "source": [
    "## Priting the final merged dataset\n",
    "df3"
   ]
  },
  {
   "cell_type": "markdown",
   "id": "3077e71b",
   "metadata": {},
   "source": [
    "### Step 3"
   ]
  },
  {
   "cell_type": "code",
   "execution_count": 12,
   "id": "b56f6b1a",
   "metadata": {
    "colab": {
     "base_uri": "https://localhost:8080/"
    },
    "id": "b56f6b1a",
    "outputId": "22580d38-a25e-4c39-b0bd-9e70914bb8fe"
   },
   "outputs": [
    {
     "name": "stderr",
     "output_type": "stream",
     "text": [
      "[nltk_data] Downloading package stopwords to /Users/ocn/nltk_data...\n",
      "[nltk_data]   Package stopwords is already up-to-date!\n",
      "[nltk_data] Downloading package punkt to /Users/ocn/nltk_data...\n",
      "[nltk_data]   Package punkt is already up-to-date!\n",
      "[nltk_data] Downloading package wordnet to /Users/ocn/nltk_data...\n",
      "[nltk_data]   Package wordnet is already up-to-date!\n",
      "[nltk_data] Downloading package omw-1.4 to /Users/ocn/nltk_data...\n",
      "[nltk_data]   Package omw-1.4 is already up-to-date!\n"
     ]
    },
    {
     "data": {
      "text/plain": [
       "True"
      ]
     },
     "execution_count": 12,
     "metadata": {},
     "output_type": "execute_result"
    }
   ],
   "source": [
    "### importing the necessary libraries for data cleaning process\n",
    "import nltk\n",
    "from nltk.stem import SnowballStemmer\n",
    "from nltk.tokenize import word_tokenize\n",
    "from nltk.corpus import stopwords\n",
    "nltk.download('stopwords')\n",
    "nltk.download('punkt')\n",
    "nltk.download('wordnet')\n",
    "nltk.download('omw-1.4')"
   ]
  },
  {
   "cell_type": "markdown",
   "id": "e54278ee",
   "metadata": {},
   "source": [
    "#### The dataset has equal numbers of true and false news so, it is the balanced dataset."
   ]
  },
  {
   "cell_type": "code",
   "execution_count": 13,
   "id": "c5011d66",
   "metadata": {},
   "outputs": [
    {
     "data": {
      "text/plain": [
       "True     10000\n",
       "False    10000\n",
       "Name: label, dtype: int64"
      ]
     },
     "execution_count": 13,
     "metadata": {},
     "output_type": "execute_result"
    }
   ],
   "source": [
    "df3[\"label\"].value_counts()"
   ]
  },
  {
   "cell_type": "code",
   "execution_count": 14,
   "id": "59567c8f",
   "metadata": {},
   "outputs": [
    {
     "data": {
      "text/plain": [
       "text     object\n",
       "label      bool\n",
       "dtype: object"
      ]
     },
     "execution_count": 14,
     "metadata": {},
     "output_type": "execute_result"
    }
   ],
   "source": [
    "##Checking the data types for the columns\n",
    "df3.dtypes"
   ]
  },
  {
   "cell_type": "code",
   "execution_count": 15,
   "id": "NN5LdOe3zKJH",
   "metadata": {
    "id": "NN5LdOe3zKJH"
   },
   "outputs": [],
   "source": [
    "##Converting the dataset's text column into string type.\n",
    "df3['text'] = df3['text'].astype(str)"
   ]
  },
  {
   "cell_type": "code",
   "execution_count": 16,
   "id": "3141765e",
   "metadata": {
    "id": "3141765e"
   },
   "outputs": [],
   "source": [
    "## Removing the characters that are not aplhabetic characters\n",
    "df3['text1'] = df3['text'].apply(lambda x: re.sub(r'[^a-zA-Z]',' ',x))"
   ]
  },
  {
   "cell_type": "code",
   "execution_count": 17,
   "id": "PdX1MUxO0-gh",
   "metadata": {
    "id": "PdX1MUxO0-gh"
   },
   "outputs": [],
   "source": [
    "## Removing the punctuations if an missed by above process\n",
    "def remove_punc(string):\n",
    "    punc = '''!()-[]{};:'\"\\,<>./?@#$%^&*_~'''\n",
    "    for i in string:\n",
    "        if i in punc:\n",
    "            string = string.replace(i,\"\")\n",
    "    return string\n",
    "df3['text2'] = df3['text1'].apply(remove_punc)    \n"
   ]
  },
  {
   "cell_type": "code",
   "execution_count": 18,
   "id": "HsGjjvPv0_y0",
   "metadata": {
    "id": "HsGjjvPv0_y0"
   },
   "outputs": [],
   "source": [
    "##Stemming the words to their natural form\n",
    "def stem_text(string):\n",
    "    ps = SnowballStemmer(language = 'english')\n",
    "    words = word_tokenize(string)\n",
    "    sentence = []\n",
    "    for word in words:\n",
    "        sentence.append(ps.stem(word))\n",
    "    return \" \".join(sentence)\n",
    "df3['text3'] = df3['text2'].apply(stem_text)      \n"
   ]
  },
  {
   "cell_type": "code",
   "execution_count": 19,
   "id": "aZWhgWlB1CNl",
   "metadata": {
    "id": "aZWhgWlB1CNl"
   },
   "outputs": [],
   "source": [
    "## Removing the stop words\n",
    "def stop_word(string):\n",
    "    stop_words = set(stopwords.words('english'))\n",
    "    word=word_tokenize(string)\n",
    "    sentence=[]\n",
    "    for word in word:\n",
    "        if word not in stop_words:\n",
    "            sentence.append(word)\n",
    "    return \" \".join(sentence)  \n",
    "df3['text3'] = df3['text2'].apply(stop_word)   \n"
   ]
  },
  {
   "cell_type": "code",
   "execution_count": 20,
   "id": "0U_JfFKb1EZw",
   "metadata": {
    "id": "0U_JfFKb1EZw"
   },
   "outputs": [],
   "source": [
    "##Converting the contents to lower case\n",
    "def lower(string):\n",
    "    return string.lower()\n",
    "df3['text4'] = df3['text3'].apply(lower)     \n"
   ]
  },
  {
   "cell_type": "code",
   "execution_count": 21,
   "id": "8aa567ca",
   "metadata": {},
   "outputs": [],
   "source": [
    "## Removing single characters for  the text columns.\n",
    "long_char=lambda s: ' '.join(filter(lambda w: len(w) > 1, s.split()))\n",
    "df3[\"text5\"]=df3['text4'].apply(long_char)\n"
   ]
  },
  {
   "cell_type": "code",
   "execution_count": 22,
   "id": "bXqaI4dT06_e",
   "metadata": {
    "colab": {
     "base_uri": "https://localhost:8080/",
     "height": 424
    },
    "id": "bXqaI4dT06_e",
    "outputId": "fe091c5b-c47d-425c-89d3-b968d2d2724e"
   },
   "outputs": [
    {
     "data": {
      "text/html": [
       "<div>\n",
       "<style scoped>\n",
       "    .dataframe tbody tr th:only-of-type {\n",
       "        vertical-align: middle;\n",
       "    }\n",
       "\n",
       "    .dataframe tbody tr th {\n",
       "        vertical-align: top;\n",
       "    }\n",
       "\n",
       "    .dataframe thead th {\n",
       "        text-align: right;\n",
       "    }\n",
       "</style>\n",
       "<table border=\"1\" class=\"dataframe\">\n",
       "  <thead>\n",
       "    <tr style=\"text-align: right;\">\n",
       "      <th></th>\n",
       "      <th>text5</th>\n",
       "      <th>label</th>\n",
       "    </tr>\n",
       "  </thead>\n",
       "  <tbody>\n",
       "    <tr>\n",
       "      <th>0</th>\n",
       "      <td>the head conservative republican faction congr...</td>\n",
       "      <td>True</td>\n",
       "    </tr>\n",
       "    <tr>\n",
       "      <th>1</th>\n",
       "      <td>transgender people allowed first time enlist m...</td>\n",
       "      <td>True</td>\n",
       "    </tr>\n",
       "    <tr>\n",
       "      <th>2</th>\n",
       "      <td>the special counsel investigation links russia...</td>\n",
       "      <td>True</td>\n",
       "    </tr>\n",
       "    <tr>\n",
       "      <th>3</th>\n",
       "      <td>trump campaign adviser george papadopoulos tol...</td>\n",
       "      <td>True</td>\n",
       "    </tr>\n",
       "    <tr>\n",
       "      <th>4</th>\n",
       "      <td>president donald trump called postal service f...</td>\n",
       "      <td>True</td>\n",
       "    </tr>\n",
       "    <tr>\n",
       "      <th>...</th>\n",
       "      <td>...</td>\n",
       "      <td>...</td>\n",
       "    </tr>\n",
       "    <tr>\n",
       "      <th>9995</th>\n",
       "      <td>here video jesse jackson praising donald trump...</td>\n",
       "      <td>False</td>\n",
       "    </tr>\n",
       "    <tr>\n",
       "      <th>9996</th>\n",
       "      <td>check happening texas president trump first la...</td>\n",
       "      <td>False</td>\n",
       "    </tr>\n",
       "    <tr>\n",
       "      <th>9997</th>\n",
       "      <td>jesse jackson thinks heaven gatekeeper the arr...</td>\n",
       "      <td>False</td>\n",
       "    </tr>\n",
       "    <tr>\n",
       "      <th>9998</th>\n",
       "      <td>the media lose melania trump wore stilettos wa...</td>\n",
       "      <td>False</td>\n",
       "    </tr>\n",
       "    <tr>\n",
       "      <th>9999</th>\n",
       "      <td>unbelievable women march activist went crazy r...</td>\n",
       "      <td>False</td>\n",
       "    </tr>\n",
       "  </tbody>\n",
       "</table>\n",
       "<p>20000 rows × 2 columns</p>\n",
       "</div>"
      ],
      "text/plain": [
       "                                                  text5  label\n",
       "0     the head conservative republican faction congr...   True\n",
       "1     transgender people allowed first time enlist m...   True\n",
       "2     the special counsel investigation links russia...   True\n",
       "3     trump campaign adviser george papadopoulos tol...   True\n",
       "4     president donald trump called postal service f...   True\n",
       "...                                                 ...    ...\n",
       "9995  here video jesse jackson praising donald trump...  False\n",
       "9996  check happening texas president trump first la...  False\n",
       "9997  jesse jackson thinks heaven gatekeeper the arr...  False\n",
       "9998  the media lose melania trump wore stilettos wa...  False\n",
       "9999  unbelievable women march activist went crazy r...  False\n",
       "\n",
       "[20000 rows x 2 columns]"
      ]
     },
     "execution_count": 22,
     "metadata": {},
     "output_type": "execute_result"
    }
   ],
   "source": [
    "## Selecting only two columns for furthur procesing\n",
    "df3[[\"text5\", \"label\"]]"
   ]
  },
  {
   "cell_type": "markdown",
   "id": "f8661dea",
   "metadata": {},
   "source": [
    "### Step 4"
   ]
  },
  {
   "cell_type": "code",
   "execution_count": 23,
   "id": "8fb5e115",
   "metadata": {
    "id": "8fb5e115"
   },
   "outputs": [],
   "source": [
    "## Importing tf-idf features and train and test split\n",
    "from sklearn.feature_extraction.text import TfidfVectorizer\n",
    "from sklearn.model_selection import train_test_split"
   ]
  },
  {
   "cell_type": "code",
   "execution_count": 24,
   "id": "0e75f96c",
   "metadata": {},
   "outputs": [],
   "source": [
    "# Selectiing X and Y\n",
    "X=df3[\"text5\"]\n",
    "y=df3[\"label\"]"
   ]
  },
  {
   "cell_type": "code",
   "execution_count": 25,
   "id": "4bb16a75",
   "metadata": {
    "id": "4bb16a75"
   },
   "outputs": [],
   "source": [
    "## Splitting the datset\n",
    "X_train,X_test,y_train,y_test=train_test_split(X, y, train_size=0.7, random_state=42, stratify=y)"
   ]
  },
  {
   "cell_type": "code",
   "execution_count": 26,
   "id": "5b07b986",
   "metadata": {
    "colab": {
     "base_uri": "https://localhost:8080/"
    },
    "id": "5b07b986",
    "outputId": "d753a3af-9e6a-4984-dc3d-9b7aa171aa6a"
   },
   "outputs": [
    {
     "data": {
      "text/plain": [
       "14000"
      ]
     },
     "execution_count": 26,
     "metadata": {},
     "output_type": "execute_result"
    }
   ],
   "source": [
    "## Printing the length of X_train\n",
    "len(X_train)"
   ]
  },
  {
   "cell_type": "code",
   "execution_count": 27,
   "id": "bedae59b",
   "metadata": {
    "colab": {
     "base_uri": "https://localhost:8080/"
    },
    "id": "bedae59b",
    "outputId": "e34d476f-efc6-4207-d85b-177a6404470a"
   },
   "outputs": [
    {
     "data": {
      "text/plain": [
       "6000"
      ]
     },
     "execution_count": 27,
     "metadata": {},
     "output_type": "execute_result"
    }
   ],
   "source": [
    "## Printing the length of y_train\n",
    "len(X_test)"
   ]
  },
  {
   "cell_type": "markdown",
   "id": "96cb6ea5",
   "metadata": {},
   "source": [
    "### Step 5"
   ]
  },
  {
   "cell_type": "code",
   "execution_count": 28,
   "id": "135b51ef",
   "metadata": {
    "id": "135b51ef"
   },
   "outputs": [],
   "source": [
    "## Apply TF-IDF (Term Frequency-Inverse Document Frequency) to convert the cleaned textual data into numerical arrays.\n",
    "##tfidf = TfidfVectorizer(ngram_range=(1,1),max_features=None)\n",
    "tfidf = TfidfVectorizer(ngram_range=(1,1),max_features=None)"
   ]
  },
  {
   "cell_type": "code",
   "execution_count": 29,
   "id": "-Dl-qTBt8Scl",
   "metadata": {
    "id": "-Dl-qTBt8Scl"
   },
   "outputs": [],
   "source": [
    "X_train_tfidf = tfidf.fit_transform(X_train).toarray()"
   ]
  },
  {
   "cell_type": "code",
   "execution_count": 30,
   "id": "c1186eda",
   "metadata": {},
   "outputs": [
    {
     "data": {
      "text/plain": [
       "array([[0., 0., 0., ..., 0., 0., 0.],\n",
       "       [0., 0., 0., ..., 0., 0., 0.],\n",
       "       [0., 0., 0., ..., 0., 0., 0.],\n",
       "       ...,\n",
       "       [0., 0., 0., ..., 0., 0., 0.],\n",
       "       [0., 0., 0., ..., 0., 0., 0.],\n",
       "       [0., 0., 0., ..., 0., 0., 0.]])"
      ]
     },
     "execution_count": 30,
     "metadata": {},
     "output_type": "execute_result"
    }
   ],
   "source": [
    "X_train_tfidf"
   ]
  },
  {
   "cell_type": "code",
   "execution_count": 31,
   "id": "5502ef16",
   "metadata": {},
   "outputs": [
    {
     "data": {
      "text/plain": [
       "14000"
      ]
     },
     "execution_count": 31,
     "metadata": {},
     "output_type": "execute_result"
    }
   ],
   "source": [
    "len(X_train_tfidf)"
   ]
  },
  {
   "cell_type": "code",
   "execution_count": 32,
   "id": "bc8a96d4",
   "metadata": {},
   "outputs": [
    {
     "name": "stdout",
     "output_type": "stream",
     "text": [
      "Non-zero values:\n",
      "[0.0602143  0.04229695 0.07095975 ... 0.01485308 0.09136411 0.02155008]\n"
     ]
    }
   ],
   "source": [
    "# Find non-zero values\n",
    "non_zero_indices = np.nonzero(X_train_tfidf)\n",
    "non_zero_values = X_train_tfidf[non_zero_indices]\n",
    "print(\"Non-zero values:\")\n",
    "print(non_zero_values)"
   ]
  },
  {
   "cell_type": "code",
   "execution_count": 33,
   "id": "b2859765",
   "metadata": {},
   "outputs": [
    {
     "data": {
      "text/plain": [
       "2306917"
      ]
     },
     "execution_count": 33,
     "metadata": {},
     "output_type": "execute_result"
    }
   ],
   "source": [
    "len(non_zero_values)"
   ]
  },
  {
   "cell_type": "code",
   "execution_count": null,
   "id": "27189d31",
   "metadata": {},
   "outputs": [],
   "source": []
  },
  {
   "cell_type": "code",
   "execution_count": 34,
   "id": "YcnYqzN48Xet",
   "metadata": {
    "id": "YcnYqzN48Xet"
   },
   "outputs": [
    {
     "data": {
      "text/plain": [
       "(14000, 63982)"
      ]
     },
     "execution_count": 34,
     "metadata": {},
     "output_type": "execute_result"
    }
   ],
   "source": [
    "(X_train_tfidf.shape)"
   ]
  },
  {
   "cell_type": "markdown",
   "id": "5f25446f",
   "metadata": {},
   "source": [
    "### Step 6"
   ]
  },
  {
   "cell_type": "code",
   "execution_count": 35,
   "id": "e465265a",
   "metadata": {},
   "outputs": [],
   "source": [
    "###MultinomialNB classifier"
   ]
  },
  {
   "cell_type": "code",
   "execution_count": 36,
   "id": "6aebc447",
   "metadata": {},
   "outputs": [],
   "source": [
    "## Importing MultinomialNB classifier\n",
    "from sklearn.naive_bayes import MultinomialNB\n",
    "mnb = MultinomialNB()"
   ]
  },
  {
   "cell_type": "code",
   "execution_count": 37,
   "id": "bea2be95",
   "metadata": {},
   "outputs": [],
   "source": [
    "## fitting the dataset into the model and converting to array\n",
    "Mnb_model=mnb.fit(X_train_tfidf,y_train)"
   ]
  },
  {
   "cell_type": "code",
   "execution_count": 38,
   "id": "e1dce6ce",
   "metadata": {},
   "outputs": [
    {
     "data": {
      "text/plain": [
       "(6000, 63982)"
      ]
     },
     "execution_count": 38,
     "metadata": {},
     "output_type": "execute_result"
    }
   ],
   "source": [
    "test_x_Mnb = tfidf.transform(X_test).toarray()\n",
    "test_x_Mnb.shape"
   ]
  },
  {
   "cell_type": "code",
   "execution_count": 39,
   "id": "14fa0dd8",
   "metadata": {},
   "outputs": [],
   "source": [
    "## Importing the accuracy score function\n",
    "from sklearn.metrics import accuracy_score"
   ]
  },
  {
   "cell_type": "code",
   "execution_count": 40,
   "id": "7d8ded95",
   "metadata": {},
   "outputs": [
    {
     "name": "stdout",
     "output_type": "stream",
     "text": [
      "Training accuracy: 0.952\n"
     ]
    }
   ],
   "source": [
    "## Printring the training accuracy for MNB model\n",
    "train_accuracy_Mnb = (mnb.score(X_train_tfidf, y_train))\n",
    "print(\"Training accuracy:\", train_accuracy_Mnb)"
   ]
  },
  {
   "cell_type": "code",
   "execution_count": 41,
   "id": "b0936bd9",
   "metadata": {},
   "outputs": [
    {
     "data": {
      "text/plain": [
       "array([False, False, False, ..., False,  True,  True])"
      ]
     },
     "execution_count": 41,
     "metadata": {},
     "output_type": "execute_result"
    }
   ],
   "source": [
    "## Predictiing the class of testing dataset\n",
    "y_pred_Mnb = mnb.predict(test_x_Mnb)\n",
    "y_pred_Mnb"
   ]
  },
  {
   "cell_type": "code",
   "execution_count": 42,
   "id": "23a9e3e8",
   "metadata": {},
   "outputs": [
    {
     "name": "stdout",
     "output_type": "stream",
     "text": [
      "0.9445\n"
     ]
    }
   ],
   "source": [
    "## Priting the testing accuracy of the model\n",
    "accuracy1_NB=(accuracy_score(y_test, y_pred_Mnb))\n",
    "print(accuracy1_NB)"
   ]
  },
  {
   "cell_type": "code",
   "execution_count": 43,
   "id": "6f0c341e",
   "metadata": {},
   "outputs": [
    {
     "name": "stdout",
     "output_type": "stream",
     "text": [
      "The classification report for test dataset for NB\n",
      "\n",
      "\n",
      "               precision    recall  f1-score   support\n",
      "\n",
      "       False       0.94      0.95      0.94      3000\n",
      "        True       0.95      0.94      0.94      3000\n",
      "\n",
      "    accuracy                           0.94      6000\n",
      "   macro avg       0.94      0.94      0.94      6000\n",
      "weighted avg       0.94      0.94      0.94      6000\n",
      "\n"
     ]
    }
   ],
   "source": [
    "## Printing the classification report for Mnb model\n",
    "from sklearn.metrics import classification_report\n",
    "print(\"The classification report for test dataset for NB\\n\\n\\n\",(classification_report(y_test, y_pred_Mnb)))"
   ]
  },
  {
   "cell_type": "code",
   "execution_count": 44,
   "id": "90e38db6",
   "metadata": {},
   "outputs": [
    {
     "data": {
      "text/plain": [
       "array([[2845,  155],\n",
       "       [ 178, 2822]])"
      ]
     },
     "execution_count": 44,
     "metadata": {},
     "output_type": "execute_result"
    }
   ],
   "source": [
    "## Printing the confusion matrix and visualizing it.\n",
    "from sklearn import metrics\n",
    "Mnb_confusion=metrics.confusion_matrix(y_test, y_pred_Mnb)\n",
    "Mnb_confusion"
   ]
  },
  {
   "cell_type": "code",
   "execution_count": 45,
   "id": "ba830301",
   "metadata": {},
   "outputs": [
    {
     "name": "stdout",
     "output_type": "stream",
     "text": [
      "Confusion matrix for MultiNB\n"
     ]
    },
    {
     "data": {
      "text/plain": [
       "<AxesSubplot:>"
      ]
     },
     "execution_count": 45,
     "metadata": {},
     "output_type": "execute_result"
    },
    {
     "data": {
      "image/png": "[encoded data removed]",
      "text/plain": [
       "<Figure size 432x288 with 2 Axes>"
      ]
     },
     "metadata": {
      "needs_background": "light"
     },
     "output_type": "display_data"
    }
   ],
   "source": [
    "Mnb_confusion=(metrics.confusion_matrix(y_test, y_pred_Mnb))\n",
    "print(\"Confusion matrix for MultiNB\")\n",
    "sns.heatmap(Mnb_confusion, annot=True, fmt=\"d\",cmap='YlGnBu')"
   ]
  },
  {
   "cell_type": "code",
   "execution_count": 46,
   "id": "9493fdd4",
   "metadata": {},
   "outputs": [],
   "source": [
    "### Importing the libraries for logistic model.\n",
    "from sklearn.linear_model import LogisticRegression\n",
    "log_model = LogisticRegression(solver='liblinear')"
   ]
  },
  {
   "cell_type": "code",
   "execution_count": 47,
   "id": "69e55698",
   "metadata": {},
   "outputs": [],
   "source": [
    "## Fitting the model\n",
    "log_model = log_model.fit(X_train_tfidf,y_train)"
   ]
  },
  {
   "cell_type": "code",
   "execution_count": 48,
   "id": "fddcf735",
   "metadata": {},
   "outputs": [
    {
     "data": {
      "text/plain": [
       "(6000, 63982)"
      ]
     },
     "execution_count": 48,
     "metadata": {},
     "output_type": "execute_result"
    }
   ],
   "source": [
    "test_x_log = tfidf.transform(X_test).toarray()\n",
    "test_x_log.shape"
   ]
  },
  {
   "cell_type": "code",
   "execution_count": 49,
   "id": "44ba2481",
   "metadata": {},
   "outputs": [
    {
     "name": "stdout",
     "output_type": "stream",
     "text": [
      "Training accuracy: 0.9924285714285714\n"
     ]
    }
   ],
   "source": [
    "## Printing the training accuracy\n",
    "train_accuracy_log = (log_model.score(X_train_tfidf, y_train))\n",
    "print(\"Training accuracy:\", train_accuracy_log)"
   ]
  },
  {
   "cell_type": "code",
   "execution_count": 50,
   "id": "99d7db4b",
   "metadata": {},
   "outputs": [
    {
     "data": {
      "text/plain": [
       "array([False, False, False, ..., False,  True,  True])"
      ]
     },
     "execution_count": 50,
     "metadata": {},
     "output_type": "execute_result"
    }
   ],
   "source": [
    "## Printing the y_prediction of test dataset.\n",
    "y_pred_log = log_model.predict(test_x_log)\n",
    "y_pred_log"
   ]
  },
  {
   "cell_type": "code",
   "execution_count": 51,
   "id": "c8ce2f49",
   "metadata": {},
   "outputs": [
    {
     "data": {
      "text/plain": [
       "0.9836666666666667"
      ]
     },
     "execution_count": 51,
     "metadata": {},
     "output_type": "execute_result"
    }
   ],
   "source": [
    "## Printing the testing accuracy\n",
    "accuracy3_log=(accuracy_score(y_test, y_pred_log))\n",
    "accuracy3_log"
   ]
  },
  {
   "cell_type": "code",
   "execution_count": 52,
   "id": "6f89e3db",
   "metadata": {},
   "outputs": [
    {
     "name": "stdout",
     "output_type": "stream",
     "text": [
      "classification report for test dataset for logistic \n",
      "\n",
      "\n",
      "               precision    recall  f1-score   support\n",
      "\n",
      "       False       0.99      0.98      0.98      3000\n",
      "        True       0.98      0.99      0.98      3000\n",
      "\n",
      "    accuracy                           0.98      6000\n",
      "   macro avg       0.98      0.98      0.98      6000\n",
      "weighted avg       0.98      0.98      0.98      6000\n",
      "\n"
     ]
    }
   ],
   "source": [
    "## Printing the classification report for logistic regression\n",
    "from sklearn.metrics import classification_report\n",
    "print(\"classification report for test dataset for logistic \\n\\n\\n\",(classification_report(y_test, y_pred_log)))"
   ]
  },
  {
   "cell_type": "code",
   "execution_count": 53,
   "id": "90ad7cbb",
   "metadata": {},
   "outputs": [
    {
     "name": "stdout",
     "output_type": "stream",
     "text": [
      "confusion matrix for logistic\n"
     ]
    },
    {
     "data": {
      "text/plain": [
       "<AxesSubplot:>"
      ]
     },
     "execution_count": 53,
     "metadata": {},
     "output_type": "execute_result"
    },
    {
     "data": {
      "image/png": "[encoded data removed]",
      "text/plain": [
       "<Figure size 432x288 with 2 Axes>"
      ]
     },
     "metadata": {
      "needs_background": "light"
     },
     "output_type": "display_data"
    }
   ],
   "source": [
    "## Printg the confusion matrix for logistic \n",
    "from sklearn import metrics\n",
    "log_confusion=(metrics.confusion_matrix(y_test, y_pred_log))\n",
    "print(\"confusion matrix for logistic\")\n",
    "sns.heatmap(log_confusion, annot=True, fmt=\"d\",cmap='YlGnBu')"
   ]
  },
  {
   "cell_type": "code",
   "execution_count": 54,
   "id": "c211a516",
   "metadata": {},
   "outputs": [
    {
     "name": "stdout",
     "output_type": "stream",
     "text": [
      "{'MultiNB': [94.45], 'Logistic': [98.36666666666667]}\n"
     ]
    },
    {
     "data": {
      "text/html": [
       "<div>\n",
       "<style scoped>\n",
       "    .dataframe tbody tr th:only-of-type {\n",
       "        vertical-align: middle;\n",
       "    }\n",
       "\n",
       "    .dataframe tbody tr th {\n",
       "        vertical-align: top;\n",
       "    }\n",
       "\n",
       "    .dataframe thead th {\n",
       "        text-align: right;\n",
       "    }\n",
       "</style>\n",
       "<table border=\"1\" class=\"dataframe\">\n",
       "  <thead>\n",
       "    <tr style=\"text-align: right;\">\n",
       "      <th></th>\n",
       "      <th>0</th>\n",
       "    </tr>\n",
       "  </thead>\n",
       "  <tbody>\n",
       "    <tr>\n",
       "      <th>MultiNB</th>\n",
       "      <td>94.450000</td>\n",
       "    </tr>\n",
       "    <tr>\n",
       "      <th>Logistic</th>\n",
       "      <td>98.366667</td>\n",
       "    </tr>\n",
       "  </tbody>\n",
       "</table>\n",
       "</div>"
      ],
      "text/plain": [
       "                  0\n",
       "MultiNB   94.450000\n",
       "Logistic  98.366667"
      ]
     },
     "execution_count": 54,
     "metadata": {},
     "output_type": "execute_result"
    }
   ],
   "source": [
    "## Plotting the Mnb and logistic regression accuracy score using barplot.\n",
    "pl = {\"MultiNB\": [accuracy1_NB*100], \"Logistic\": [accuracy3_log*100]}\n",
    "print(pl)\n",
    "\n",
    "\n",
    "pl = pd.DataFrame(pl, columns=[\"MultiNB\", \"Logistic\"])\n",
    "x=pl.T\n",
    "x"
   ]
  },
  {
   "cell_type": "code",
   "execution_count": 55,
   "id": "8d26b39a",
   "metadata": {},
   "outputs": [],
   "source": [
    "# Import matplotlib library at first\n",
    "import matplotlib.pyplot as plt\n",
    "%matplotlib inline\n",
    "from matplotlib.pylab import rcParams\n",
    "rcParams['figure.figsize'] = (5, 5)"
   ]
  },
  {
   "cell_type": "code",
   "execution_count": 56,
   "id": "0cf7ed4c",
   "metadata": {},
   "outputs": [
    {
     "data": {
      "image/png": "[encoded data removed]",
      "text/plain": [
       "<Figure size 576x360 with 1 Axes>"
      ]
     },
     "metadata": {
      "needs_background": "light"
     },
     "output_type": "display_data"
    }
   ],
   "source": [
    "myplot = x.plot(kind='barh', figsize = [8,5])\n",
    "plt.xlabel('accuracy percentage', fontsize=14)\n",
    "plt.ylabel('Classifier', fontsize=16)\n",
    "plt.title('Accuracy score for Mnb and Logistic models', fontsize=14)\n",
    "plt.legend(\"Classifier\")\n",
    "for rect in myplot.patches:\n",
    "    ycoor = rect.get_y() + .5*rect.get_height()\n",
    "    xcoor = rect.get_width()\n",
    "    plt.text(xcoor, ycoor, str(int(xcoor)), \n",
    "             horizontalalignment='left', \n",
    "             verticalalignment='center',\n",
    "             fontsize=14)"
   ]
  },
  {
   "cell_type": "markdown",
   "id": "417db8e3",
   "metadata": {},
   "source": [
    "## Step 7\n",
    "Testing the models with latest news dataset which is the main objective of this project."
   ]
  },
  {
   "cell_type": "code",
   "execution_count": 57,
   "id": "a08a20e6",
   "metadata": {},
   "outputs": [
    {
     "data": {
      "text/html": [
       "<div>\n",
       "<style scoped>\n",
       "    .dataframe tbody tr th:only-of-type {\n",
       "        vertical-align: middle;\n",
       "    }\n",
       "\n",
       "    .dataframe tbody tr th {\n",
       "        vertical-align: top;\n",
       "    }\n",
       "\n",
       "    .dataframe thead th {\n",
       "        text-align: right;\n",
       "    }\n",
       "</style>\n",
       "<table border=\"1\" class=\"dataframe\">\n",
       "  <thead>\n",
       "    <tr style=\"text-align: right;\">\n",
       "      <th></th>\n",
       "      <th>News_Agency</th>\n",
       "      <th>Url</th>\n",
       "      <th>Date</th>\n",
       "      <th>News Title</th>\n",
       "      <th>News Content</th>\n",
       "    </tr>\n",
       "  </thead>\n",
       "  <tbody>\n",
       "    <tr>\n",
       "      <th>0</th>\n",
       "      <td>CNN Politics</td>\n",
       "      <td>https://www.cnn.com/2023/05/05/politics/biden-...</td>\n",
       "      <td>5/5/2023</td>\n",
       "      <td>Biden tells reporters he will hold a ‘major pr...</td>\n",
       "      <td>\\nPresident Joe Biden will not be holding a ne...</td>\n",
       "    </tr>\n",
       "  </tbody>\n",
       "</table>\n",
       "</div>"
      ],
      "text/plain": [
       "    News_Agency                                                Url      Date  \\\n",
       "0  CNN Politics  https://www.cnn.com/2023/05/05/politics/biden-...  5/5/2023   \n",
       "\n",
       "                                          News Title  \\\n",
       "0  Biden tells reporters he will hold a ‘major pr...   \n",
       "\n",
       "                                        News Content  \n",
       "0  \\nPresident Joe Biden will not be holding a ne...  "
      ]
     },
     "execution_count": 57,
     "metadata": {},
     "output_type": "execute_result"
    }
   ],
   "source": [
    "### Importing the dataset\n",
    "cp=pd.read_csv(\"test_project_news.csv\")\n",
    "cx=cp.dropna()\n",
    "cx.head(1)"
   ]
  },
  {
   "cell_type": "code",
   "execution_count": 58,
   "id": "f6ec7667",
   "metadata": {},
   "outputs": [
    {
     "name": "stderr",
     "output_type": "stream",
     "text": [
      "/var/folders/3v/q0wvbvms0x3bd5z88wrm076w0000gn/T/ipykernel_1297/2222265672.py:3: SettingWithCopyWarning: \n",
      "A value is trying to be set on a copy of a slice from a DataFrame.\n",
      "Try using .loc[row_indexer,col_indexer] = value instead\n",
      "\n",
      "See the caveats in the documentation: https://pandas.pydata.org/pandas-docs/stable/user_guide/indexing.html#returning-a-view-versus-a-copy\n",
      "  cd[\"label\"]=True\n"
     ]
    },
    {
     "data": {
      "text/html": [
       "<div>\n",
       "<style scoped>\n",
       "    .dataframe tbody tr th:only-of-type {\n",
       "        vertical-align: middle;\n",
       "    }\n",
       "\n",
       "    .dataframe tbody tr th {\n",
       "        vertical-align: top;\n",
       "    }\n",
       "\n",
       "    .dataframe thead th {\n",
       "        text-align: right;\n",
       "    }\n",
       "</style>\n",
       "<table border=\"1\" class=\"dataframe\">\n",
       "  <thead>\n",
       "    <tr style=\"text-align: right;\">\n",
       "      <th></th>\n",
       "      <th>News Content</th>\n",
       "      <th>label</th>\n",
       "    </tr>\n",
       "  </thead>\n",
       "  <tbody>\n",
       "    <tr>\n",
       "      <th>0</th>\n",
       "      <td>\\nPresident Joe Biden will not be holding a ne...</td>\n",
       "      <td>True</td>\n",
       "    </tr>\n",
       "    <tr>\n",
       "      <th>2</th>\n",
       "      <td>You can now remove all unwanted ads instantly ...</td>\n",
       "      <td>True</td>\n",
       "    </tr>\n",
       "    <tr>\n",
       "      <th>4</th>\n",
       "      <td>\\nDennis “Maliq” Barnes, the New Orleans high ...</td>\n",
       "      <td>True</td>\n",
       "    </tr>\n",
       "    <tr>\n",
       "      <th>6</th>\n",
       "      <td>Some would consider this to be a freezing cold...</td>\n",
       "      <td>True</td>\n",
       "    </tr>\n",
       "    <tr>\n",
       "      <th>8</th>\n",
       "      <td>A senior software engineer at Google jumped to...</td>\n",
       "      <td>True</td>\n",
       "    </tr>\n",
       "    <tr>\n",
       "      <th>10</th>\n",
       "      <td>The government has allowed animal testing for ...</td>\n",
       "      <td>True</td>\n",
       "    </tr>\n",
       "    <tr>\n",
       "      <th>12</th>\n",
       "      <td>Republicans hold supermajorities in both chamb...</td>\n",
       "      <td>True</td>\n",
       "    </tr>\n",
       "    <tr>\n",
       "      <th>14</th>\n",
       "      <td>The invitations have been sent and rehearsals ...</td>\n",
       "      <td>True</td>\n",
       "    </tr>\n",
       "    <tr>\n",
       "      <th>16</th>\n",
       "      <td>ISTANBUL -- Ukrainian and Russian delegates ha...</td>\n",
       "      <td>True</td>\n",
       "    </tr>\n",
       "    <tr>\n",
       "      <th>18</th>\n",
       "      <td>The chaotic week for financial markets is draw...</td>\n",
       "      <td>True</td>\n",
       "    </tr>\n",
       "  </tbody>\n",
       "</table>\n",
       "</div>"
      ],
      "text/plain": [
       "                                         News Content  label\n",
       "0   \\nPresident Joe Biden will not be holding a ne...   True\n",
       "2   You can now remove all unwanted ads instantly ...   True\n",
       "4   \\nDennis “Maliq” Barnes, the New Orleans high ...   True\n",
       "6   Some would consider this to be a freezing cold...   True\n",
       "8   A senior software engineer at Google jumped to...   True\n",
       "10  The government has allowed animal testing for ...   True\n",
       "12  Republicans hold supermajorities in both chamb...   True\n",
       "14  The invitations have been sent and rehearsals ...   True\n",
       "16  ISTANBUL -- Ukrainian and Russian delegates ha...   True\n",
       "18  The chaotic week for financial markets is draw...   True"
      ]
     },
     "execution_count": 58,
     "metadata": {},
     "output_type": "execute_result"
    }
   ],
   "source": [
    "## Creating label for ths datset\n",
    "cd=cx[[\"News Content\"]]\n",
    "cd[\"label\"]=True\n",
    "cd"
   ]
  },
  {
   "cell_type": "code",
   "execution_count": 59,
   "id": "b12b0844",
   "metadata": {},
   "outputs": [
    {
     "name": "stderr",
     "output_type": "stream",
     "text": [
      "/var/folders/3v/q0wvbvms0x3bd5z88wrm076w0000gn/T/ipykernel_1297/1263453922.py:8: SettingWithCopyWarning: \n",
      "A value is trying to be set on a copy of a slice from a DataFrame.\n",
      "Try using .loc[row_indexer,col_indexer] = value instead\n",
      "\n",
      "See the caveats in the documentation: https://pandas.pydata.org/pandas-docs/stable/user_guide/indexing.html#returning-a-view-versus-a-copy\n",
      "  cd['News Content1'] = cd['News Content'].apply(remove_punc)\n",
      "/var/folders/3v/q0wvbvms0x3bd5z88wrm076w0000gn/T/ipykernel_1297/1263453922.py:16: SettingWithCopyWarning: \n",
      "A value is trying to be set on a copy of a slice from a DataFrame.\n",
      "Try using .loc[row_indexer,col_indexer] = value instead\n",
      "\n",
      "See the caveats in the documentation: https://pandas.pydata.org/pandas-docs/stable/user_guide/indexing.html#returning-a-view-versus-a-copy\n",
      "  cd['News Content2'] = cd['News Content1'].apply(stem_text)\n"
     ]
    }
   ],
   "source": [
    "## Cleaning processes\n",
    "def remove_punc(string):\n",
    "    punc = '''!()-[]{};:'\"\\,<>./?@#$%^&*_~'''\n",
    "    for i in string:\n",
    "        if i in punc:\n",
    "            string = string.replace(i,\"\")\n",
    "    return string\n",
    "cd['News Content1'] = cd['News Content'].apply(remove_punc) \n",
    "def stem_text(string):\n",
    "    ps = SnowballStemmer(language = 'english')\n",
    "    words = word_tokenize(string)\n",
    "    sentence = []\n",
    "    for word in words:\n",
    "        sentence.append(ps.stem(word))\n",
    "    return \" \".join(sentence)\n",
    "cd['News Content2'] = cd['News Content1'].apply(stem_text)  \n",
    "def stop_word(string):\n",
    "    stop_words = set(stopwords.words('english'))\n",
    "    word=word_tokenize(string)\n",
    "    sentence=[]\n",
    "    for word in word:\n",
    "        if word not in stop_words:\n",
    "            sentence.append(word)\n",
    "    return \" \".join(sentence)  \n",
    "cd['News Content3']= cd['News Content2'].apply(stop_word)   \n",
    "def lower(string):\n",
    "    return string.lower()\n",
    "cd['News Content4'] = cd['News Content3'].apply(lower)    \n",
    "long_char=lambda s: ' '.join(filter(lambda w: len(w) > 1, s.split()))\n",
    "cd['News Content5']=cd['News Content4'].apply(long_char)\n"
   ]
  },
  {
   "cell_type": "code",
   "execution_count": 60,
   "id": "b822e735",
   "metadata": {},
   "outputs": [],
   "source": [
    "#3 Transforming the dataset for testing\n",
    "pr = tfidf.transform(cd[\"News Content5\"]).toarray()"
   ]
  },
  {
   "cell_type": "code",
   "execution_count": 61,
   "id": "d8ac570d",
   "metadata": {},
   "outputs": [
    {
     "data": {
      "text/plain": [
       "array([False, False, False, False, False,  True,  True, False,  True,\n",
       "        True])"
      ]
     },
     "execution_count": 61,
     "metadata": {},
     "output_type": "execute_result"
    }
   ],
   "source": [
    "## predicting class labels using Mnb model\n",
    "t=mnb.predict(pr)\n",
    "t"
   ]
  },
  {
   "cell_type": "code",
   "execution_count": 62,
   "id": "dab5e648",
   "metadata": {},
   "outputs": [
    {
     "data": {
      "text/plain": [
       "0.4"
      ]
     },
     "execution_count": 62,
     "metadata": {},
     "output_type": "execute_result"
    }
   ],
   "source": [
    "## Printing the accuracy for Mnb model\n",
    "accuracy5_mnb=(accuracy_score(cd[\"label\"],t ))\n",
    "accuracy5_mnb"
   ]
  },
  {
   "cell_type": "code",
   "execution_count": 63,
   "id": "544bb20e",
   "metadata": {},
   "outputs": [
    {
     "data": {
      "text/plain": [
       "array([False, False,  True, False,  True,  True,  True, False, False,\n",
       "        True])"
      ]
     },
     "execution_count": 63,
     "metadata": {},
     "output_type": "execute_result"
    }
   ],
   "source": [
    "### predicting class labels using log model\n",
    "m=log_model.predict(pr)\n",
    "m"
   ]
  },
  {
   "cell_type": "code",
   "execution_count": 64,
   "id": "01a47d1d",
   "metadata": {},
   "outputs": [
    {
     "data": {
      "text/plain": [
       "0.5"
      ]
     },
     "execution_count": 64,
     "metadata": {},
     "output_type": "execute_result"
    }
   ],
   "source": [
    "## Printing the accuracy for log model\n",
    "accuracy4_log=(accuracy_score(cd[\"label\"],m ))\n",
    "accuracy4_log"
   ]
  },
  {
   "cell_type": "code",
   "execution_count": 65,
   "id": "4969005b",
   "metadata": {},
   "outputs": [
    {
     "name": "stdout",
     "output_type": "stream",
     "text": [
      "{'MultiNB': [40.0], 'Logistic': [50.0]}\n"
     ]
    },
    {
     "data": {
      "image/png": "[encoded data removed]",
      "text/plain": [
       "<Figure size 576x360 with 1 Axes>"
      ]
     },
     "metadata": {
      "needs_background": "light"
     },
     "output_type": "display_data"
    }
   ],
   "source": [
    "## Plotting the Mnb and logistic regression accuracy score using barplot.\n",
    "pl11 = {\"MultiNB\": [accuracy5_mnb*100], \"Logistic\": [accuracy4_log*100]}\n",
    "print(pl11)\n",
    "\n",
    "\n",
    "pl11 = pd.DataFrame(pl11, columns=[\"MultiNB\", \"Logistic\"])\n",
    "x1=pl11.T\n",
    "x1\n",
    "# Import matplotlib library at first\n",
    "import matplotlib.pyplot as plt\n",
    "%matplotlib inline\n",
    "from matplotlib.pylab import rcParams\n",
    "rcParams['figure.figsize'] = (5, 5)\n",
    "myplot = x1.plot(kind='barh', figsize = [8,5])\n",
    "plt.xlabel('accuracy percentage', fontsize=14)\n",
    "plt.ylabel('Classifier', fontsize=16)\n",
    "plt.title('Accuracy score for Mnb and Logistic models for latest news dataset', fontsize=14)\n",
    "plt.legend(\"Classifier\")\n",
    "for rect in myplot.patches:\n",
    "    ycoor = rect.get_y() + .5*rect.get_height()\n",
    "    xcoor = rect.get_width()\n",
    "    plt.text(xcoor, ycoor, str(int(xcoor)), \n",
    "             horizontalalignment='left', \n",
    "             verticalalignment='center',\n",
    "             fontsize=14)"
   ]
  },
  {
   "cell_type": "markdown",
   "id": "739bd5e3",
   "metadata": {},
   "source": [
    "## Step 8"
   ]
  },
  {
   "cell_type": "markdown",
   "id": "af0d094f",
   "metadata": {},
   "source": [
    "### without cleaning"
   ]
  },
  {
   "cell_type": "code",
   "execution_count": 66,
   "id": "cabb129c",
   "metadata": {},
   "outputs": [
    {
     "data": {
      "text/plain": [
       "(14000, 67203)"
      ]
     },
     "execution_count": 66,
     "metadata": {},
     "output_type": "execute_result"
    }
   ],
   "source": [
    "df3\n",
    "##Converting the dataset's text column into string type.\n",
    "df3['text'] = df3['text'].astype(str)\n",
    "## Importing tf-idf features and train and test split\n",
    "from sklearn.feature_extraction.text import TfidfVectorizer\n",
    "from sklearn.model_selection import train_test_split\n",
    "# Selectiing X and Y\n",
    "X1=df3[\"text\"]\n",
    "y1=df3[\"label\"]\n",
    "## Splitting the datset\n",
    "X1_train,X1_test,y1_train,y1_test=train_test_split(X1, y1, train_size=0.7, random_state=42, stratify=y1)\n",
    "len(X1_train)\n",
    "len(X1_test)\n",
    "## Apply TF-IDF (Term Frequency-Inverse Document Frequency) to convert the cleaned textual data into numerical arrays.\n",
    "tfidf1 = TfidfVectorizer(ngram_range=(1,1),max_features=None)\n",
    "X1_train_tfidf = tfidf1.fit_transform(X1_train).toarray()\n",
    "(X1_train_tfidf.shape)\n",
    "\n",
    "\n",
    "\n",
    "\n"
   ]
  },
  {
   "cell_type": "code",
   "execution_count": 67,
   "id": "6b61d92a",
   "metadata": {},
   "outputs": [
    {
     "name": "stdout",
     "output_type": "stream",
     "text": [
      "Training accuracy: 0.9539285714285715\n"
     ]
    }
   ],
   "source": [
    "## Importing MultinomialNB classifier\n",
    "from sklearn.naive_bayes import MultinomialNB\n",
    "mnb1 = MultinomialNB()\n",
    "## fitting the dataset into the model and converting to array\n",
    "Mnb_model1=mnb1.fit(X1_train_tfidf,y1_train)\n",
    "test_x_Mnb1 = tfidf1.transform(X1_test).toarray()\n",
    "test_x_Mnb1.shape\n",
    "## Importing the accuracy score function\n",
    "from sklearn.metrics import accuracy_score\n",
    "## Printring the training accuracy for MNB model\n",
    "train_accuracy_Mnb1 = (mnb1.score(X1_train_tfidf, y1_train))\n",
    "print(\"Training accuracy:\", train_accuracy_Mnb1)\n",
    "\n"
   ]
  },
  {
   "cell_type": "code",
   "execution_count": 68,
   "id": "b3ee9257",
   "metadata": {},
   "outputs": [
    {
     "data": {
      "text/plain": [
       "array([False, False, False, ..., False,  True,  True])"
      ]
     },
     "execution_count": 68,
     "metadata": {},
     "output_type": "execute_result"
    }
   ],
   "source": [
    "## Predictiing the class of testing dataset\n",
    "y1_pred_Mnb1 = mnb1.predict(test_x_Mnb1)\n",
    "y1_pred_Mnb1\n"
   ]
  },
  {
   "cell_type": "code",
   "execution_count": 69,
   "id": "5b809c48",
   "metadata": {},
   "outputs": [
    {
     "name": "stdout",
     "output_type": "stream",
     "text": [
      "0.9436666666666667\n"
     ]
    }
   ],
   "source": [
    "## Priting the testing accuracy of the model\n",
    "accuracy1_NB1=(accuracy_score(y1_test, y1_pred_Mnb1))\n",
    "print(accuracy1_NB1)"
   ]
  },
  {
   "cell_type": "code",
   "execution_count": 70,
   "id": "2cf6bbcf",
   "metadata": {},
   "outputs": [
    {
     "name": "stdout",
     "output_type": "stream",
     "text": [
      "The classification report for test dataset for NB\n",
      "\n",
      "\n",
      "               precision    recall  f1-score   support\n",
      "\n",
      "       False       0.94      0.95      0.94      3000\n",
      "        True       0.95      0.93      0.94      3000\n",
      "\n",
      "    accuracy                           0.94      6000\n",
      "   macro avg       0.94      0.94      0.94      6000\n",
      "weighted avg       0.94      0.94      0.94      6000\n",
      "\n"
     ]
    }
   ],
   "source": [
    "\n",
    "## Printing the classification report for Mnb model\n",
    "from sklearn.metrics import classification_report\n",
    "print(\"The classification report for test dataset for NB\\n\\n\\n\",(classification_report(y1_test, y1_pred_Mnb1)))\n",
    "## Printing the confusion matrix and visualizing it."
   ]
  },
  {
   "cell_type": "code",
   "execution_count": 71,
   "id": "7ceab045",
   "metadata": {},
   "outputs": [
    {
     "name": "stdout",
     "output_type": "stream",
     "text": [
      "Confusion matrix for MultiNB1\n"
     ]
    },
    {
     "data": {
      "text/plain": [
       "<AxesSubplot:>"
      ]
     },
     "execution_count": 71,
     "metadata": {},
     "output_type": "execute_result"
    },
    {
     "data": {
      "image/png": "[encoded data removed]",
      "text/plain": [
       "<Figure size 360x360 with 2 Axes>"
      ]
     },
     "metadata": {
      "needs_background": "light"
     },
     "output_type": "display_data"
    }
   ],
   "source": [
    "## Printing the confusion matrix and visualizing it.\n",
    "from sklearn import metrics\n",
    "Mnb_confusion1=metrics.confusion_matrix(y1_test, y1_pred_Mnb1)\n",
    "print(\"Confusion matrix for MultiNB1\")\n",
    "sns.heatmap(Mnb_confusion1, annot=True, fmt=\"d\",cmap='YlGnBu')\n"
   ]
  },
  {
   "cell_type": "code",
   "execution_count": 72,
   "id": "0608b791",
   "metadata": {},
   "outputs": [
    {
     "data": {
      "text/plain": [
       "(6000, 67203)"
      ]
     },
     "execution_count": 72,
     "metadata": {},
     "output_type": "execute_result"
    }
   ],
   "source": [
    "### Importing the libraries for logistic model.\n",
    "from sklearn.linear_model import LogisticRegression\n",
    "log_model1 = LogisticRegression(solver='liblinear')\n",
    "## Fitting the model\n",
    "log_model1 = log_model1.fit(X1_train_tfidf,y1_train)\n",
    "test_x_log1 = tfidf1.transform(X1_test).toarray()\n",
    "test_x_log1.shape"
   ]
  },
  {
   "cell_type": "code",
   "execution_count": 73,
   "id": "0f9957b6",
   "metadata": {},
   "outputs": [
    {
     "name": "stdout",
     "output_type": "stream",
     "text": [
      "Training accuracy: 0.9925\n"
     ]
    },
    {
     "data": {
      "text/plain": [
       "array([False, False, False, ..., False,  True,  True])"
      ]
     },
     "execution_count": 73,
     "metadata": {},
     "output_type": "execute_result"
    }
   ],
   "source": [
    "## Printing the training accuracy\n",
    "train_accuracy_log1 = (log_model1.score(X1_train_tfidf, y1_train))\n",
    "print(\"Training accuracy:\", train_accuracy_log1)\n",
    "## Printing the y_prediction of test dataset.\n",
    "y1_pred_log = log_model1.predict(test_x_log1)\n",
    "y1_pred_log"
   ]
  },
  {
   "cell_type": "code",
   "execution_count": 74,
   "id": "0be50d20",
   "metadata": {},
   "outputs": [
    {
     "data": {
      "text/plain": [
       "0.982"
      ]
     },
     "execution_count": 74,
     "metadata": {},
     "output_type": "execute_result"
    }
   ],
   "source": [
    "## Printing the testing accuracy\n",
    "accuracy3_log1=(accuracy_score(y1_test, y1_pred_log))\n",
    "accuracy3_log1"
   ]
  },
  {
   "cell_type": "code",
   "execution_count": 75,
   "id": "348f98ef",
   "metadata": {},
   "outputs": [
    {
     "name": "stdout",
     "output_type": "stream",
     "text": [
      "classification report for test dataset for logistic \n",
      "\n",
      "\n",
      "               precision    recall  f1-score   support\n",
      "\n",
      "       False       0.99      0.98      0.98      3000\n",
      "        True       0.98      0.99      0.98      3000\n",
      "\n",
      "    accuracy                           0.98      6000\n",
      "   macro avg       0.98      0.98      0.98      6000\n",
      "weighted avg       0.98      0.98      0.98      6000\n",
      "\n"
     ]
    }
   ],
   "source": [
    "\n",
    "## Printing the classification report for logistic regression\n",
    "from sklearn.metrics import classification_report\n",
    "print(\"classification report for test dataset for logistic \\n\\n\\n\",(classification_report(y1_test, y1_pred_log)))"
   ]
  },
  {
   "cell_type": "code",
   "execution_count": 76,
   "id": "52326654",
   "metadata": {},
   "outputs": [
    {
     "name": "stdout",
     "output_type": "stream",
     "text": [
      "confusion matrix for logistic\n"
     ]
    },
    {
     "data": {
      "text/plain": [
       "<AxesSubplot:>"
      ]
     },
     "execution_count": 76,
     "metadata": {},
     "output_type": "execute_result"
    },
    {
     "data": {
      "image/png": "[encoded data removed]",
      "text/plain": [
       "<Figure size 360x360 with 2 Axes>"
      ]
     },
     "metadata": {
      "needs_background": "light"
     },
     "output_type": "display_data"
    }
   ],
   "source": [
    "## Printg the confusion matrix for logistic \n",
    "from sklearn import metrics\n",
    "log_confusion1=(metrics.confusion_matrix(y1_test, y1_pred_log))\n",
    "print(\"confusion matrix for logistic\")\n",
    "sns.heatmap(log_confusion1, annot=True, fmt=\"d\",cmap='YlGnBu')"
   ]
  },
  {
   "cell_type": "code",
   "execution_count": 77,
   "id": "e4a0966b",
   "metadata": {},
   "outputs": [
    {
     "name": "stdout",
     "output_type": "stream",
     "text": [
      "{'Logistic': [98.2], 'MultiNB': [94.36666666666666]}\n"
     ]
    },
    {
     "data": {
      "image/png": "[encoded data removed]",
      "text/plain": [
       "<Figure size 576x360 with 1 Axes>"
      ]
     },
     "metadata": {
      "needs_background": "light"
     },
     "output_type": "display_data"
    }
   ],
   "source": [
    "## Plotting the Mnb and logistic regression accuracy score using barplot.\n",
    "pl1 = {\"Logistic\": [accuracy3_log1*100], \"MultiNB\": [accuracy1_NB1*100]}\n",
    "print(pl1)\n",
    "\n",
    "\n",
    "pl1 = pd.DataFrame(pl1, columns=[\"MultiNB\", \"Logistic\"])\n",
    "x1=pl1.T\n",
    "x1\n",
    "# Import matplotlib library at first\n",
    "import matplotlib.pyplot as plt\n",
    "%matplotlib inline\n",
    "from matplotlib.pylab import rcParams\n",
    "rcParams['figure.figsize'] = (5, 5)\n",
    "myplot = x1.plot(kind='barh', figsize = [8,5])\n",
    "plt.xlabel('accuracy percentage', fontsize=14)\n",
    "plt.ylabel('Classifier', fontsize=16)\n",
    "plt.title('Accuracy score for Mnb and Logistic models', fontsize=14)\n",
    "plt.legend(\"Classifier\")\n",
    "for rect in myplot.patches:\n",
    "    ycoor = rect.get_y() + .5*rect.get_height()\n",
    "    xcoor = rect.get_width()\n",
    "    plt.text(xcoor, ycoor, str(int(xcoor)), \n",
    "             horizontalalignment='left', \n",
    "             verticalalignment='center',\n",
    "             fontsize=14)\n"
   ]
  },
  {
   "cell_type": "code",
   "execution_count": 78,
   "id": "e65ffb9b",
   "metadata": {},
   "outputs": [
    {
     "name": "stderr",
     "output_type": "stream",
     "text": [
      "/var/folders/3v/q0wvbvms0x3bd5z88wrm076w0000gn/T/ipykernel_1297/288140908.py:2: SettingWithCopyWarning: \n",
      "A value is trying to be set on a copy of a slice from a DataFrame.\n",
      "Try using .loc[row_indexer,col_indexer] = value instead\n",
      "\n",
      "See the caveats in the documentation: https://pandas.pydata.org/pandas-docs/stable/user_guide/indexing.html#returning-a-view-versus-a-copy\n",
      "  cd1[\"label\"]=True\n"
     ]
    },
    {
     "data": {
      "text/html": [
       "<div>\n",
       "<style scoped>\n",
       "    .dataframe tbody tr th:only-of-type {\n",
       "        vertical-align: middle;\n",
       "    }\n",
       "\n",
       "    .dataframe tbody tr th {\n",
       "        vertical-align: top;\n",
       "    }\n",
       "\n",
       "    .dataframe thead th {\n",
       "        text-align: right;\n",
       "    }\n",
       "</style>\n",
       "<table border=\"1\" class=\"dataframe\">\n",
       "  <thead>\n",
       "    <tr style=\"text-align: right;\">\n",
       "      <th></th>\n",
       "      <th>News Content</th>\n",
       "      <th>label</th>\n",
       "    </tr>\n",
       "  </thead>\n",
       "  <tbody>\n",
       "    <tr>\n",
       "      <th>0</th>\n",
       "      <td>\\nPresident Joe Biden will not be holding a ne...</td>\n",
       "      <td>True</td>\n",
       "    </tr>\n",
       "    <tr>\n",
       "      <th>2</th>\n",
       "      <td>You can now remove all unwanted ads instantly ...</td>\n",
       "      <td>True</td>\n",
       "    </tr>\n",
       "    <tr>\n",
       "      <th>4</th>\n",
       "      <td>\\nDennis “Maliq” Barnes, the New Orleans high ...</td>\n",
       "      <td>True</td>\n",
       "    </tr>\n",
       "    <tr>\n",
       "      <th>6</th>\n",
       "      <td>Some would consider this to be a freezing cold...</td>\n",
       "      <td>True</td>\n",
       "    </tr>\n",
       "    <tr>\n",
       "      <th>8</th>\n",
       "      <td>A senior software engineer at Google jumped to...</td>\n",
       "      <td>True</td>\n",
       "    </tr>\n",
       "    <tr>\n",
       "      <th>10</th>\n",
       "      <td>The government has allowed animal testing for ...</td>\n",
       "      <td>True</td>\n",
       "    </tr>\n",
       "    <tr>\n",
       "      <th>12</th>\n",
       "      <td>Republicans hold supermajorities in both chamb...</td>\n",
       "      <td>True</td>\n",
       "    </tr>\n",
       "    <tr>\n",
       "      <th>14</th>\n",
       "      <td>The invitations have been sent and rehearsals ...</td>\n",
       "      <td>True</td>\n",
       "    </tr>\n",
       "    <tr>\n",
       "      <th>16</th>\n",
       "      <td>ISTANBUL -- Ukrainian and Russian delegates ha...</td>\n",
       "      <td>True</td>\n",
       "    </tr>\n",
       "    <tr>\n",
       "      <th>18</th>\n",
       "      <td>The chaotic week for financial markets is draw...</td>\n",
       "      <td>True</td>\n",
       "    </tr>\n",
       "  </tbody>\n",
       "</table>\n",
       "</div>"
      ],
      "text/plain": [
       "                                         News Content  label\n",
       "0   \\nPresident Joe Biden will not be holding a ne...   True\n",
       "2   You can now remove all unwanted ads instantly ...   True\n",
       "4   \\nDennis “Maliq” Barnes, the New Orleans high ...   True\n",
       "6   Some would consider this to be a freezing cold...   True\n",
       "8   A senior software engineer at Google jumped to...   True\n",
       "10  The government has allowed animal testing for ...   True\n",
       "12  Republicans hold supermajorities in both chamb...   True\n",
       "14  The invitations have been sent and rehearsals ...   True\n",
       "16  ISTANBUL -- Ukrainian and Russian delegates ha...   True\n",
       "18  The chaotic week for financial markets is draw...   True"
      ]
     },
     "execution_count": 78,
     "metadata": {},
     "output_type": "execute_result"
    }
   ],
   "source": [
    "cd1=cx[[\"News Content\"]]\n",
    "cd1[\"label\"]=True\n",
    "cd1"
   ]
  },
  {
   "cell_type": "code",
   "execution_count": null,
   "id": "0e699eff",
   "metadata": {},
   "outputs": [],
   "source": []
  },
  {
   "cell_type": "code",
   "execution_count": 79,
   "id": "cc220721",
   "metadata": {},
   "outputs": [],
   "source": [
    "## Without cleaning"
   ]
  },
  {
   "cell_type": "code",
   "execution_count": 80,
   "id": "25f27e13",
   "metadata": {},
   "outputs": [
    {
     "data": {
      "text/plain": [
       "array([False, False, False, False, False,  True,  True, False,  True,\n",
       "        True])"
      ]
     },
     "execution_count": 80,
     "metadata": {},
     "output_type": "execute_result"
    }
   ],
   "source": [
    "#3 Transforming the dataset for testing\n",
    "pr1 = tfidf1.transform(cd1[\"News Content\"]).toarray()\n",
    "t1=mnb1.predict(pr1)\n",
    "t1"
   ]
  },
  {
   "cell_type": "code",
   "execution_count": 81,
   "id": "e7f56078",
   "metadata": {},
   "outputs": [
    {
     "data": {
      "text/plain": [
       "array([[0., 0., 0., ..., 0., 0., 0.],\n",
       "       [0., 0., 0., ..., 0., 0., 0.],\n",
       "       [0., 0., 0., ..., 0., 0., 0.],\n",
       "       ...,\n",
       "       [0., 0., 0., ..., 0., 0., 0.],\n",
       "       [0., 0., 0., ..., 0., 0., 0.],\n",
       "       [0., 0., 0., ..., 0., 0., 0.]])"
      ]
     },
     "execution_count": 81,
     "metadata": {},
     "output_type": "execute_result"
    }
   ],
   "source": [
    "pr1"
   ]
  },
  {
   "cell_type": "code",
   "execution_count": 82,
   "id": "844e9f23",
   "metadata": {
    "scrolled": false
   },
   "outputs": [
    {
     "name": "stdout",
     "output_type": "stream",
     "text": [
      "Non-zero values:\n",
      "[0.07525832 0.3425297  0.08951675 ... 0.06153282 0.04551432 0.0574555 ]\n"
     ]
    },
    {
     "data": {
      "text/plain": [
       "1896"
      ]
     },
     "execution_count": 82,
     "metadata": {},
     "output_type": "execute_result"
    }
   ],
   "source": [
    "# Find non-zero values\n",
    "non_zero_indices3 = np.nonzero(pr1)\n",
    "non_zero_values3 = pr1[non_zero_indices3]\n",
    "print(\"Non-zero values:\")\n",
    "print(non_zero_values3)\n",
    "len(non_zero_values3)"
   ]
  },
  {
   "cell_type": "code",
   "execution_count": 83,
   "id": "e4124953",
   "metadata": {},
   "outputs": [
    {
     "name": "stdout",
     "output_type": "stream",
     "text": [
      "Zero values:\n",
      "[0. 0. 0. ... 0. 0. 0.]\n"
     ]
    }
   ],
   "source": [
    "zero_indices1 = np.where(pr1 == 0)\n",
    "zero_values1 = pr1[zero_indices1]\n",
    "print(\"Zero values:\")\n",
    "print(zero_values1)"
   ]
  },
  {
   "cell_type": "code",
   "execution_count": 84,
   "id": "96032257",
   "metadata": {},
   "outputs": [
    {
     "data": {
      "text/plain": [
       "670134"
      ]
     },
     "execution_count": 84,
     "metadata": {},
     "output_type": "execute_result"
    }
   ],
   "source": [
    "len(zero_values1)"
   ]
  },
  {
   "cell_type": "code",
   "execution_count": 85,
   "id": "2485b5be",
   "metadata": {},
   "outputs": [
    {
     "data": {
      "text/plain": [
       "0.4"
      ]
     },
     "execution_count": 85,
     "metadata": {},
     "output_type": "execute_result"
    }
   ],
   "source": [
    "## Printing the accuracy for Mnb model\n",
    "accuracy5_mnb1=(accuracy_score(cd1[\"label\"],t1 ))\n",
    "accuracy5_mnb1"
   ]
  },
  {
   "cell_type": "code",
   "execution_count": 86,
   "id": "fe3d9fc4",
   "metadata": {},
   "outputs": [
    {
     "data": {
      "text/plain": [
       "array([False, False,  True, False,  True,  True,  True, False,  True,\n",
       "        True])"
      ]
     },
     "execution_count": 86,
     "metadata": {},
     "output_type": "execute_result"
    }
   ],
   "source": [
    "### predicting class labels using log model\n",
    "m1=log_model1.predict(pr1)\n",
    "m1\n"
   ]
  },
  {
   "cell_type": "code",
   "execution_count": 87,
   "id": "e4f4b1a5",
   "metadata": {},
   "outputs": [
    {
     "data": {
      "text/plain": [
       "0.6"
      ]
     },
     "execution_count": 87,
     "metadata": {},
     "output_type": "execute_result"
    }
   ],
   "source": [
    "## Printing the accuracy for log model\n",
    "accuracy4_log1=(accuracy_score(cd1[\"label\"],m1 ))\n",
    "accuracy4_log1"
   ]
  },
  {
   "cell_type": "code",
   "execution_count": 88,
   "id": "6a0384a3",
   "metadata": {},
   "outputs": [
    {
     "name": "stdout",
     "output_type": "stream",
     "text": [
      "Confusion matrix for MultiNB1\n"
     ]
    },
    {
     "data": {
      "text/plain": [
       "<AxesSubplot:>"
      ]
     },
     "execution_count": 88,
     "metadata": {},
     "output_type": "execute_result"
    },
    {
     "data": {
      "image/png": "[encoded data removed]",
      "text/plain": [
       "<Figure size 360x360 with 2 Axes>"
      ]
     },
     "metadata": {
      "needs_background": "light"
     },
     "output_type": "display_data"
    }
   ],
   "source": [
    "## Printing the confusion matrix and visualizing it.\n",
    "from sklearn import metrics\n",
    "tr1=metrics.confusion_matrix(cd1[\"label\"], t1)\n",
    "print(\"Confusion matrix for MultiNB1\")\n",
    "sns.heatmap(tr1, annot=True, fmt=\"d\",cmap='YlGnBu')"
   ]
  },
  {
   "cell_type": "code",
   "execution_count": null,
   "id": "a8861b0d",
   "metadata": {},
   "outputs": [],
   "source": []
  },
  {
   "cell_type": "code",
   "execution_count": 89,
   "id": "32a32be4",
   "metadata": {},
   "outputs": [
    {
     "name": "stdout",
     "output_type": "stream",
     "text": [
      "Confusion matrix for log1\n"
     ]
    },
    {
     "data": {
      "text/plain": [
       "<AxesSubplot:>"
      ]
     },
     "execution_count": 89,
     "metadata": {},
     "output_type": "execute_result"
    },
    {
     "data": {
      "image/png": "[encoded data removed]",
      "text/plain": [
       "<Figure size 360x360 with 2 Axes>"
      ]
     },
     "metadata": {
      "needs_background": "light"
     },
     "output_type": "display_data"
    }
   ],
   "source": [
    "## Printing the confusion matrix and visualizing it.\n",
    "from sklearn import metrics\n",
    "mr1=metrics.confusion_matrix(cd1[\"label\"], m1)\n",
    "print(\"Confusion matrix for log1\")\n",
    "sns.heatmap(mr1, annot=True, fmt=\"d\",cmap='YlGnBu')"
   ]
  },
  {
   "cell_type": "code",
   "execution_count": 90,
   "id": "04a57545",
   "metadata": {},
   "outputs": [
    {
     "data": {
      "text/plain": [
       "array([[0, 0],\n",
       "       [4, 6]])"
      ]
     },
     "execution_count": 90,
     "metadata": {},
     "output_type": "execute_result"
    }
   ],
   "source": [
    "log1_confusion=metrics.confusion_matrix(cd[\"label\"],m1)\n",
    "log1_confusion"
   ]
  },
  {
   "cell_type": "code",
   "execution_count": 91,
   "id": "de19ac28",
   "metadata": {},
   "outputs": [
    {
     "name": "stdout",
     "output_type": "stream",
     "text": [
      "{'MultiNB': [40.0], 'Logistic': [60.0]}\n"
     ]
    },
    {
     "data": {
      "image/png": "[encoded data removed]",
      "text/plain": [
       "<Figure size 576x360 with 1 Axes>"
      ]
     },
     "metadata": {
      "needs_background": "light"
     },
     "output_type": "display_data"
    }
   ],
   "source": [
    "## Plotting the Mnb and logistic regression accuracy score using barplot.\n",
    "pl1 = {\"MultiNB\": [accuracy5_mnb1*100], \"Logistic\": [accuracy4_log1*100]}\n",
    "print(pl1)\n",
    "\n",
    "\n",
    "pl1 = pd.DataFrame(pl1, columns=[\"MultiNB\", \"Logistic\"])\n",
    "x1=pl1.T\n",
    "x1\n",
    "# Import matplotlib library at first\n",
    "import matplotlib.pyplot as plt\n",
    "%matplotlib inline\n",
    "from matplotlib.pylab import rcParams\n",
    "rcParams['figure.figsize'] = (5, 5)\n",
    "myplot = x1.plot(kind='barh', figsize = [8,5])\n",
    "plt.xlabel('accuracy percentage', fontsize=14)\n",
    "plt.ylabel('Classifier', fontsize=16)\n",
    "plt.title('Accuracy score for Mnb and Logistic models for latest news dataset', fontsize=14)\n",
    "plt.legend(\"Classifier\")\n",
    "for rect in myplot.patches:\n",
    "    ycoor = rect.get_y() + .5*rect.get_height()\n",
    "    xcoor = rect.get_width()\n",
    "    plt.text(xcoor, ycoor, str(int(xcoor)), \n",
    "             horizontalalignment='left', \n",
    "             verticalalignment='center',\n",
    "             fontsize=14)"
   ]
  },
  {
   "cell_type": "markdown",
   "id": "3d415727",
   "metadata": {},
   "source": [
    "#### The model's performance on the latest news dataset was unexpectedly poor, and I believe there could be several reasons for this outcome. It's possible that I may have overlooked important steps or made mistakes during the project. While the model showed excellent performance during training and testing with the same dataset, it struggled significantly when faced with the latest news data. Despite analyzing the cleaned and uncleaned data, I didn't observe any significant differences as both versions produced similar results within a range of 5%, and both exceeded 90% accuracy. However, when applied to the latest news dataset, the model only achieved accuracies of 40% ,50%  for cleaned and 40%, 60% for uncleaned respectively(NB and Logistic), which was highly disappointing. Ultimately, the model's performance fell short. \n",
    "\n",
    "\n",
    "#### I attempted to process the data using bi-grams and other techniques, but the sheer size of the dataset proved to be a challenge for the machine, preventing me from conducting further analysis. I also attempted to improve the model's performance by limiting the number of features in the dataset. However, this approach did not yield better results and instead resulted in lower accuracy.\n",
    "#### Also, approach had been made by changing train and test dataset size, however results were not consistance more lesser the dataset for training more better was the logistic regression for latest news but NB was getting poor as reducing the dataset size.\n",
    "#### This project concludes that models need to be updated time to time for the better performance, as seen the news dataset from 2017 doesnot work for latest news of 2023. Things keep changing time to time so, news field also has changed during the course of time. For future, looking for the latest datsets of news to repeated the process and to see the final result.\n",
    "\n",
    "\n",
    "#### Always welcome comments and suggestions to improve the model or to change the process. This summer i will try to look for the latest news if found will share the furthur details.\n",
    "\n",
    "### Thankyou"
   ]
  },
  {
   "cell_type": "code",
   "execution_count": 92,
   "id": "20f5ea12",
   "metadata": {},
   "outputs": [],
   "source": [
    "     ##################################################THE END#######################################################"
   ]
  },
  {
   "cell_type": "code",
   "execution_count": null,
   "id": "567cd9ad",
   "metadata": {},
   "outputs": [],
   "source": []
  },
  {
   "cell_type": "code",
   "execution_count": null,
   "id": "1b8c5cde",
   "metadata": {},
   "outputs": [],
   "source": []
  }
 ],
 "metadata": {
  "colab": {
   "provenance": []
  },
  "kernelspec": {
   "display_name": "Python 3 (ipykernel)",
   "language": "python",
   "name": "python3"
  },
  "language_info": {
   "codemirror_mode": {
    "name": "ipython",
    "version": 3
   },
   "file_extension": ".py",
   "mimetype": "text/x-python",
   "name": "python",
   "nbconvert_exporter": "python",
   "pygments_lexer": "ipython3",
   "version": "3.9.12"
  }
 },
 "nbformat": 4,
 "nbformat_minor": 5
}
